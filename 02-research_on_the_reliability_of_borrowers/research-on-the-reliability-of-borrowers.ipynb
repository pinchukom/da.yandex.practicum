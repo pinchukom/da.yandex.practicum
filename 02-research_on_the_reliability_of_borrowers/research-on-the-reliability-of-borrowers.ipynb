{
 "cells": [
  {
   "cell_type": "markdown",
   "metadata": {},
   "source": [
    "## 1. Загрузка данных и изучение общей информации. "
   ]
  },
  {
   "cell_type": "code",
   "execution_count": 1,
   "metadata": {},
   "outputs": [
    {
     "name": "stdout",
     "output_type": "stream",
     "text": [
      "<class 'pandas.core.frame.DataFrame'>\n",
      "RangeIndex: 21525 entries, 0 to 21524\n",
      "Data columns (total 12 columns):\n",
      "children            21525 non-null int64\n",
      "days_employed       19351 non-null float64\n",
      "dob_years           21525 non-null int64\n",
      "education           21525 non-null object\n",
      "education_id        21525 non-null int64\n",
      "family_status       21525 non-null object\n",
      "family_status_id    21525 non-null int64\n",
      "gender              21525 non-null object\n",
      "income_type         21525 non-null object\n",
      "debt                21525 non-null int64\n",
      "total_income        19351 non-null float64\n",
      "purpose             21525 non-null object\n",
      "dtypes: float64(2), int64(5), object(5)\n",
      "memory usage: 2.0+ MB\n"
     ]
    },
    {
     "data": {
      "text/html": [
       "<div>\n",
       "<style scoped>\n",
       "    .dataframe tbody tr th:only-of-type {\n",
       "        vertical-align: middle;\n",
       "    }\n",
       "\n",
       "    .dataframe tbody tr th {\n",
       "        vertical-align: top;\n",
       "    }\n",
       "\n",
       "    .dataframe thead th {\n",
       "        text-align: right;\n",
       "    }\n",
       "</style>\n",
       "<table border=\"1\" class=\"dataframe\">\n",
       "  <thead>\n",
       "    <tr style=\"text-align: right;\">\n",
       "      <th></th>\n",
       "      <th>children</th>\n",
       "      <th>days_employed</th>\n",
       "      <th>dob_years</th>\n",
       "      <th>education_id</th>\n",
       "      <th>family_status_id</th>\n",
       "      <th>debt</th>\n",
       "      <th>total_income</th>\n",
       "    </tr>\n",
       "  </thead>\n",
       "  <tbody>\n",
       "    <tr>\n",
       "      <td>count</td>\n",
       "      <td>21525.000000</td>\n",
       "      <td>19351.000000</td>\n",
       "      <td>21525.000000</td>\n",
       "      <td>21525.000000</td>\n",
       "      <td>21525.000000</td>\n",
       "      <td>21525.000000</td>\n",
       "      <td>1.935100e+04</td>\n",
       "    </tr>\n",
       "    <tr>\n",
       "      <td>mean</td>\n",
       "      <td>0.538908</td>\n",
       "      <td>63046.497661</td>\n",
       "      <td>43.293380</td>\n",
       "      <td>0.817236</td>\n",
       "      <td>0.972544</td>\n",
       "      <td>0.080883</td>\n",
       "      <td>1.674223e+05</td>\n",
       "    </tr>\n",
       "    <tr>\n",
       "      <td>std</td>\n",
       "      <td>1.381587</td>\n",
       "      <td>140827.311974</td>\n",
       "      <td>12.574584</td>\n",
       "      <td>0.548138</td>\n",
       "      <td>1.420324</td>\n",
       "      <td>0.272661</td>\n",
       "      <td>1.029716e+05</td>\n",
       "    </tr>\n",
       "    <tr>\n",
       "      <td>min</td>\n",
       "      <td>-1.000000</td>\n",
       "      <td>-18388.949901</td>\n",
       "      <td>0.000000</td>\n",
       "      <td>0.000000</td>\n",
       "      <td>0.000000</td>\n",
       "      <td>0.000000</td>\n",
       "      <td>2.066726e+04</td>\n",
       "    </tr>\n",
       "    <tr>\n",
       "      <td>25%</td>\n",
       "      <td>0.000000</td>\n",
       "      <td>-2747.423625</td>\n",
       "      <td>33.000000</td>\n",
       "      <td>1.000000</td>\n",
       "      <td>0.000000</td>\n",
       "      <td>0.000000</td>\n",
       "      <td>1.030532e+05</td>\n",
       "    </tr>\n",
       "    <tr>\n",
       "      <td>50%</td>\n",
       "      <td>0.000000</td>\n",
       "      <td>-1203.369529</td>\n",
       "      <td>42.000000</td>\n",
       "      <td>1.000000</td>\n",
       "      <td>0.000000</td>\n",
       "      <td>0.000000</td>\n",
       "      <td>1.450179e+05</td>\n",
       "    </tr>\n",
       "    <tr>\n",
       "      <td>75%</td>\n",
       "      <td>1.000000</td>\n",
       "      <td>-291.095954</td>\n",
       "      <td>53.000000</td>\n",
       "      <td>1.000000</td>\n",
       "      <td>1.000000</td>\n",
       "      <td>0.000000</td>\n",
       "      <td>2.034351e+05</td>\n",
       "    </tr>\n",
       "    <tr>\n",
       "      <td>max</td>\n",
       "      <td>20.000000</td>\n",
       "      <td>401755.400475</td>\n",
       "      <td>75.000000</td>\n",
       "      <td>4.000000</td>\n",
       "      <td>4.000000</td>\n",
       "      <td>1.000000</td>\n",
       "      <td>2.265604e+06</td>\n",
       "    </tr>\n",
       "  </tbody>\n",
       "</table>\n",
       "</div>"
      ],
      "text/plain": [
       "           children  days_employed     dob_years  education_id  \\\n",
       "count  21525.000000   19351.000000  21525.000000  21525.000000   \n",
       "mean       0.538908   63046.497661     43.293380      0.817236   \n",
       "std        1.381587  140827.311974     12.574584      0.548138   \n",
       "min       -1.000000  -18388.949901      0.000000      0.000000   \n",
       "25%        0.000000   -2747.423625     33.000000      1.000000   \n",
       "50%        0.000000   -1203.369529     42.000000      1.000000   \n",
       "75%        1.000000    -291.095954     53.000000      1.000000   \n",
       "max       20.000000  401755.400475     75.000000      4.000000   \n",
       "\n",
       "       family_status_id          debt  total_income  \n",
       "count      21525.000000  21525.000000  1.935100e+04  \n",
       "mean           0.972544      0.080883  1.674223e+05  \n",
       "std            1.420324      0.272661  1.029716e+05  \n",
       "min            0.000000      0.000000  2.066726e+04  \n",
       "25%            0.000000      0.000000  1.030532e+05  \n",
       "50%            0.000000      0.000000  1.450179e+05  \n",
       "75%            1.000000      0.000000  2.034351e+05  \n",
       "max            4.000000      1.000000  2.265604e+06  "
      ]
     },
     "execution_count": 1,
     "metadata": {},
     "output_type": "execute_result"
    }
   ],
   "source": [
    "import pandas as pd\n",
    "data =pd.read_csv('/datasets/data.csv')\n",
    "data.info()\n",
    "data.describe()"
   ]
  },
  {
   "cell_type": "markdown",
   "metadata": {},
   "source": [
    "### Вывод"
   ]
  },
  {
   "cell_type": "markdown",
   "metadata": {},
   "source": [
    "1. Согласно приведенному описанию данных и полученной информации о таблице видим:\n",
    "children — количество детей в семье. Тип данных соответствует данным\n",
    "days_employed — общий трудовой стаж в днях. В столбце имеются отрицательные значения, чего быть не может и значения после запятой (тип float64), а должны быть целочисленными \n",
    "dob_years — возраст клиента в годах. Тип данных соответствует данным\n",
    "education — уровень образования клиента. Тип данных соответствует данным\n",
    "education_id — идентификатор уровня образования. Тип данных соответствует данным\n",
    "family_status — семейное положение. Тип данных соответствует данным\n",
    "family_status_id — идентификатор семейного положения. Тип данных соответствует данным, но можно привести к булевому значению для экономии пространства, пока этого делать не будем.\n",
    "gender — пол клиента. Тип данных соответствует данным\n",
    "income_type — тип занятости. Тип данных соответствует данным\n",
    "debt — имел ли задолженность по возврату кредитов. Тип данных соответствует данным, но можно привести к булевому значению для экономии пространства, пока этого делать не будем.\n",
    "total_income — ежемесячный доход. Тип данных соответствует данным\n",
    "purpose — цель получения кредита. Тип данных соответствует данным\n",
    "\n",
    "2. В Столбце \"children\" есть выбросы, такие как -1 и 20"
   ]
  },
  {
   "cell_type": "markdown",
   "metadata": {},
   "source": [
    "## 2. Предобработка данных"
   ]
  },
  {
   "cell_type": "markdown",
   "metadata": {},
   "source": [
    "### 2.1. Обработка пропусков"
   ]
  },
  {
   "cell_type": "code",
   "execution_count": 10,
   "metadata": {},
   "outputs": [
    {
     "name": "stdout",
     "output_type": "stream",
     "text": [
      "children               0\n",
      "days_employed       2174\n",
      "dob_years              0\n",
      "education              0\n",
      "education_id           0\n",
      "family_status          0\n",
      "family_status_id       0\n",
      "gender                 0\n",
      "income_type            0\n",
      "debt                   0\n",
      "total_income        2174\n",
      "purpose                0\n",
      "dtype: int64\n",
      "\n",
      "2174\n",
      "сотрудник          11119\n",
      "компаньон           5085\n",
      "пенсионер           3856\n",
      "госслужащий         1459\n",
      "предприниматель        2\n",
      "безработный            2\n",
      "в декрете              1\n",
      "студент                1\n",
      "Name: income_type, dtype: int64\n",
      "\n"
     ]
    }
   ],
   "source": [
    "#Определим пропуски\n",
    "print(data.isnull().sum())\n",
    "print()\n",
    "cnt_null = data[(data['days_employed'].isnull()) & (data['total_income'].isnull())]\n",
    "print(len(cnt_null))\n",
    "print()\n",
    "print(data['income_type'].value_counts())\n",
    "print()\n",
    "\n",
    "#Что не так с кол-вом детей?\n",
    "#data['children'].value_counts()"
   ]
  },
  {
   "cell_type": "code",
   "execution_count": null,
   "metadata": {},
   "outputs": [],
   "source": [
    "data['days_employed'] = data['days_employed'].fillna('0')\n",
    "data['total_income'] = data['total_income'].fillna(data['total_income'].median())\n",
    "data.isnull().sum()"
   ]
  },
  {
   "cell_type": "markdown",
   "metadata": {},
   "source": [
    "#### Вывод"
   ]
  },
  {
   "cell_type": "markdown",
   "metadata": {},
   "source": [
    "В столбце days_employed(общий трудовой стаж) и total_income(ежемесячный доход) имеется 2174 пропуска и это те же строки.\n",
    "Пропуски в days_employed и total_income могут означать отсутствие стажа и соответственно отсутствие дохода,но прямой связи с типом занятости нет.\n",
    "\n",
    "Т.к. данные в столбце days_employed не участвуют в формировании ответа на поставленный вопрос заменим пропущенненные значения 0.\n",
    "Значения в total_income потребуются для ответа на вопрос \"Есть ли зависимость между уровнем дохода и возвратом кредита в срок?\" заменим пропуски на медиану"
   ]
  },
  {
   "cell_type": "markdown",
   "metadata": {},
   "source": [
    "### 2.2. Замена типа данных"
   ]
  },
  {
   "cell_type": "code",
   "execution_count": null,
   "metadata": {},
   "outputs": [],
   "source": [
    "print(data.info())\n",
    "\n",
    "# Приводем столбец days_employed к int и избавляемся от отрицательных значений \n",
    "data['days_employed'] = abs(data['days_employed'].astype('int'))\n",
    "\n",
    "# Приводем столбец total_income к float64\n",
    "data['total_income'] = pd.to_numeric(data['total_income'], errors='coerce') \n",
    "print(data.info())\n",
    "data.head()"
   ]
  },
  {
   "cell_type": "markdown",
   "metadata": {},
   "source": [
    "#### Вывод"
   ]
  },
  {
   "cell_type": "markdown",
   "metadata": {},
   "source": [
    "После замены пропущенных значений тип столбцов days_employed и total_income изменился на object. Вернем тип данных float64 столбцу total_income и days_employed, а так же избавимся от отрицательных значений в days_employed"
   ]
  },
  {
   "cell_type": "markdown",
   "metadata": {},
   "source": [
    "### 2.3. Обработка дубликатов"
   ]
  },
  {
   "cell_type": "code",
   "execution_count": null,
   "metadata": {},
   "outputs": [],
   "source": [
    "print('Дубликатов в таблице:', data.duplicated().sum())\n",
    "# Перевод значений в столбцах формата str к нижнему регистру\n",
    "columns_str =['education', 'family_status', 'gender', 'income_type', 'purpose']\n",
    "for row in columns_str:\n",
    "    data[row] = data[row].str.lower()\n",
    "data.head()\n",
    "print('Дубликатов в таблице после приведения:', data.duplicated().sum())\n",
    "\n",
    "# Удаляем дубликаты\n",
    "data = data.drop_duplicates()\n",
    "#Удаляем появившиеся пропуски и сбрасываем индексы\n",
    "data = data.dropna().reset_index(drop = True)\n",
    "print('Дубликатов в таблице после удаления:', data.duplicated().sum())"
   ]
  },
  {
   "cell_type": "markdown",
   "metadata": {},
   "source": [
    "#### Вывод"
   ]
  },
  {
   "cell_type": "markdown",
   "metadata": {},
   "source": [
    "1. В таблице 54 набора строк имеющих дубликаты\n",
    "2. После перевода регистра количество обнаруженных строк с дубликатами увеличилось до 71\n",
    "Причины появления дубликатов: Однозначно ответить на этот вопрос без наличия столбца определяющего уникальность (например ФИО заемщика или его ID в системе) нельзя, по этому считаем, что все выявленные дубли являются арифактами и результатом некоректной выгрузки или внесения данных и подлежат удалению."
   ]
  },
  {
   "cell_type": "markdown",
   "metadata": {},
   "source": [
    "### 2.4. Лемматизация"
   ]
  },
  {
   "cell_type": "code",
   "execution_count": null,
   "metadata": {},
   "outputs": [],
   "source": [
    "from pymystem3 import Mystem\n",
    "m = Mystem() \n",
    "from collections import Counter \n",
    "\n",
    "\n",
    "lemmas = []    \n",
    "for row in data['purpose']:\n",
    "    lemmas += m.lemmatize(row)  \n",
    "Counter(lemmas)\n",
    "\n"
   ]
  },
  {
   "cell_type": "markdown",
   "metadata": {},
   "source": [
    "#### Вывод"
   ]
  },
  {
   "cell_type": "markdown",
   "metadata": {},
   "source": [
    "По результату лематизации видно, что цели кредита можно разделить на несколько категорий, а именно: недвижимость, образование, автомобиль и свадьба"
   ]
  },
  {
   "cell_type": "markdown",
   "metadata": {},
   "source": [
    "### 2.5. Категоризация данных"
   ]
  },
  {
   "cell_type": "code",
   "execution_count": null,
   "metadata": {},
   "outputs": [],
   "source": [
    "lemass2 =  data['purpose'].apply(m.lemmatize)\n",
    "# Функция определения категории цели займа:\n",
    "def purpose_category(lemm):\n",
    "    if ('жилье' in lemm) or  ('недвижимость' in lemm):\n",
    "        return 'недвижимости'\n",
    "    if 'образование' in lemm:\n",
    "        return 'образование'\n",
    "    if 'автомобиль' in lemm:\n",
    "        return 'автомобиль'\n",
    "    if 'свадьба' in lemm:\n",
    "        return 'свадьба'\n",
    "        \n",
    "data['purpose_category'] = lemass2.apply(purpose_category) # Добавляем столбец с категорией цели займа\n",
    "print('1.Колво заемщиков по категории займа')\n",
    "print(data['purpose_category'].value_counts())\n",
    "print('--------')\n",
    "\n",
    "# Функция определения категории наличия детей:\n",
    "def children_category(children):\n",
    "    if children > 0:\n",
    "        return 'есть дети'\n",
    "    else:\n",
    "        return 'нет детей'\n",
    "    \n",
    "data['children_category'] =data['children'].apply(children_category) # Добавляем столбец с категорией наличия детей\n",
    "print('2.Колво заемщиков по категории наличия детей')\n",
    "print(data['children_category'].value_counts())\n",
    "print('--------')\n",
    "\n",
    "# Определение диапазона значений в размере дохода\n",
    "print('3.Диапазон значений в размере дохода')\n",
    "print('Минимальный уровень дохода:', data['total_income'].min())\n",
    "print('Максимальный уровень дохода:', data['total_income'].max())\n",
    "print('Средний уровень дохода:', data['total_income'].mean())\n",
    "print('Медиана уровеня дохода:', data['total_income'].median())\n",
    "print('нижний порог среднего:', ((data['total_income'].median()+ data['total_income'].min())/2))\n",
    "print('верхний порог среднего:', ((data['total_income'].median()+ data['total_income'].max())/2))\n",
    "print('--------')\n",
    "\n",
    "# Фукция назначения категории размера дохода:\n",
    "def total_income_category(income):\n",
    "    if income <= 82842:\n",
    "        return 'низкий уровень дохода'\n",
    "    if income > 1205311:\n",
    "        return 'высокий уровень дохода'\n",
    "    return 'средний уровень дохода'\n",
    "data['total_income_category'] =data['total_income'].apply(total_income_category)\n",
    "print('4.Колво заемщиков по категории уровня дохода')\n",
    "print(data['total_income_category'].value_counts())\n",
    "print('--------')\n",
    "\n",
    "data.head()"
   ]
  },
  {
   "cell_type": "markdown",
   "metadata": {},
   "source": [
    "#### Вывод"
   ]
  },
  {
   "cell_type": "markdown",
   "metadata": {},
   "source": [
    "Добавлены категории к данным, которые в дальнейшем будут участвовать в ответах на вопрос.\n",
    "1. категория займа, упростит создание выборки для ответа на вопрос \"Как разные цели кредита влияют на его возврат в срок?\"\n",
    "Для создания данной категории использовался метод лематизации, далее был просмотрен имеющийся набор ключевых слов и на основании этого созданы категории: недвижимость, автомобиль,образование, свадьба\n",
    "2. Категория наличия/отсутствия детей нужна для ответа на вопрос \"Есть ли зависимость между наличием детей и возвратом кредита в срок?\"\n",
    "Все данные разделены на 2 категории, те у кого есть дети и те у кого их нет\n",
    "3. Категория по уровню дохода нужна для ответа на вопрос \"Есть ли зависимость между уровнем дохода и возвратом кредита в срок?\"\n",
    "Для определения категорий проверили диапазон значений -минимальную и максимальную зарплату в выборке, а так же на основании среднего и медианы определили примерный диапазон для разделения. Минимальный порог для средней категории- это ~ середина между медианой и минимальным значением, аналогично определен верхний порог."
   ]
  },
  {
   "cell_type": "markdown",
   "metadata": {},
   "source": [
    "## 3. Ответьте на вопросы"
   ]
  },
  {
   "cell_type": "markdown",
   "metadata": {},
   "source": [
    "### 3.1. Есть ли зависимость между наличием детей и возвратом кредита в срок?"
   ]
  },
  {
   "cell_type": "code",
   "execution_count": null,
   "metadata": {},
   "outputs": [],
   "source": [
    "data_pivot = data.pivot_table(index=['children_category'], columns='debt', values='gender', aggfunc='count')\n",
    "data_pivot['procentil'] = data_pivot[1] / data_pivot[0] *100\n",
    "print(data_pivot.sort_values(by = 'procentil', ascending = True))\n",
    "\n",
    "data_pivot2 = data.pivot_table(index=['children'], columns='debt', values='gender', aggfunc='count')\n",
    "data_pivot2['procentil'] = data_pivot2[1] / data_pivot2[0] *100\n",
    "data_pivot2.sort_values(by = 'procentil', ascending = True)"
   ]
  },
  {
   "cell_type": "markdown",
   "metadata": {},
   "source": [
    "#### Вывод"
   ]
  },
  {
   "cell_type": "markdown",
   "metadata": {},
   "source": [
    "Процент заемщиков с детьми и задолженостью по кредиту = 10%,а заемциков без детей с задолженостью - 8%. Похоже, что наличие детей увеличивает вероятность задолжнености.\n",
    "Но если более детально посмотреть на данные и попытатся выяснить влияет ли кол-во детей на вероятность задолености видно, что прямой корелляции нет.\n",
    "Соответственно нельзя утверждать, что наличие детей напрямую влияет на наличие задолжености"
   ]
  },
  {
   "cell_type": "markdown",
   "metadata": {},
   "source": [
    "### 3.2. Есть ли зависимость между семейным положением и возвратом кредита в срок?"
   ]
  },
  {
   "cell_type": "code",
   "execution_count": null,
   "metadata": {},
   "outputs": [],
   "source": [
    "data_pivot_family_status = data.pivot_table(index=['family_status'], columns='debt', values='gender', aggfunc='count')\n",
    "data_pivot_family_status['procentil'] = data_pivot_family_status[1] / data_pivot_family_status[0] *100\n",
    "data_pivot_family_status.sort_values(by = 'procentil', ascending = True)"
   ]
  },
  {
   "cell_type": "markdown",
   "metadata": {},
   "source": [
    "#### Вывод"
   ]
  },
  {
   "cell_type": "markdown",
   "metadata": {},
   "source": [
    "Люди не имевшие официально оформленого брака имеют задолженность по кредиту чаще, чем вдовцы,разведенные или состоящие в браке на текущий момент"
   ]
  },
  {
   "cell_type": "markdown",
   "metadata": {},
   "source": [
    "### 3.3. Есть ли зависимость между уровнем дохода и возвратом кредита в срок?"
   ]
  },
  {
   "cell_type": "code",
   "execution_count": null,
   "metadata": {},
   "outputs": [],
   "source": [
    "data_pivot_total_income = data.pivot_table(index=['total_income_category'], columns='debt', values='gender', aggfunc='count')\n",
    "data_pivot_total_income['procentil'] = data_pivot_total_income[1] / data_pivot_total_income[0] *100\n",
    "data_pivot_total_income.sort_values(by = 'procentil', ascending = True)"
   ]
  },
  {
   "cell_type": "markdown",
   "metadata": {},
   "source": [
    "#### Вывод"
   ]
  },
  {
   "cell_type": "markdown",
   "metadata": {},
   "source": [
    "Уровень дохода не влияет на вероятность просрочки"
   ]
  },
  {
   "cell_type": "markdown",
   "metadata": {},
   "source": [
    "### 3.4. Как разные цели кредита влияют на его возврат в срок?"
   ]
  },
  {
   "cell_type": "code",
   "execution_count": null,
   "metadata": {},
   "outputs": [],
   "source": [
    "data_pivot_purpose = data.pivot_table(index=['purpose_category'], columns='debt', values='gender', aggfunc='count')\n",
    "data_pivot_purpose['procentil'] = data_pivot_purpose[1] / data_pivot_purpose[0] *100\n",
    "data_pivot_purpose.sort_values(by = 'procentil', ascending = True)"
   ]
  },
  {
   "cell_type": "markdown",
   "metadata": {},
   "source": [
    "#### Вывод"
   ]
  },
  {
   "cell_type": "markdown",
   "metadata": {},
   "source": [
    "В случае займа на образование и автомобиль вероятность просрочки по выплатам увеличивается."
   ]
  },
  {
   "cell_type": "markdown",
   "metadata": {},
   "source": [
    "## Общий вывод"
   ]
  },
  {
   "cell_type": "markdown",
   "metadata": {},
   "source": [
    "На задолженость по займу в большей степени влияет семейное положение и цель займа.\n",
    "Уровень дохода и наличие детей не влияет на вероятность просрочки"
   ]
  }
 ],
 "metadata": {
  "kernelspec": {
   "display_name": "Python 3",
   "language": "python",
   "name": "python3"
  },
  "language_info": {
   "codemirror_mode": {
    "name": "ipython",
    "version": 3
   },
   "file_extension": ".py",
   "mimetype": "text/x-python",
   "name": "python",
   "nbconvert_exporter": "python",
   "pygments_lexer": "ipython3",
   "version": "3.8.5"
  }
 },
 "nbformat": 4,
 "nbformat_minor": 2
}
