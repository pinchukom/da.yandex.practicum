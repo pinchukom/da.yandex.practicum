{
 "cells": [
  {
   "cell_type": "markdown",
   "metadata": {},
   "source": [
    "# Анализ базы данных"
   ]
  },
  {
   "cell_type": "markdown",
   "metadata": {},
   "source": [
    "## Цель\n",
    "Анализ информации о книгах, издательствах, авторах, а также пользовательские обзоры книг. Для формирования ценностного предложения для нового продукта"
   ]
  },
  {
   "cell_type": "markdown",
   "metadata": {},
   "source": [
    "**Автор** Пинчук Ольга"
   ]
  },
  {
   "cell_type": "markdown",
   "metadata": {},
   "source": [
    "## Задания\n",
    "\n",
    "- Посчитайте, сколько книг вышло после 1 января 2000 года;\n",
    "- Для каждой книги посчитайте количество обзоров и среднюю оценку;\n",
    "- Определите издательство, которое выпустило наибольшее число книг толще 50 страниц — так вы исключите из анализа брошюры;\n",
    "- Определите автора с самой высокой средней оценкой книг — учитывайте только книги с 50 и более оценками;\n",
    "- Посчитайте среднее количество обзоров от пользователей, которые поставили больше 50 оценок."
   ]
  },
  {
   "cell_type": "markdown",
   "metadata": {},
   "source": [
    "## 1. Подключение к БД"
   ]
  },
  {
   "cell_type": "code",
   "execution_count": 26,
   "metadata": {},
   "outputs": [],
   "source": [
    "# Импорт библиотек\n",
    "import pandas as pd\n",
    "from sqlalchemy import create_engine "
   ]
  },
  {
   "cell_type": "code",
   "execution_count": 27,
   "metadata": {},
   "outputs": [],
   "source": [
    "# устанавливаем параметры\n",
    "db_config = {'user': 'praktikum_student', # имя пользователя\n",
    " 'pwd': 'Sdf4$2;d-d30pp', \n",
    " 'host': 'rc1b-wcoijxj3yxfsf3fs.mdb.yandexcloud.net',\n",
    " 'port': 6432, # порт подключения\n",
    " 'db': 'data-analyst-final-project-db'} # название базы данных\n",
    "connection_string = 'postgresql://{}:{}@{}:{}/{}'.format(db_config['user'],\n",
    " db_config['pwd'],\n",
    " db_config['host'],\n",
    " db_config['port'],\n",
    " db_config['db'])\n",
    "# сохраняем коннектор\n",
    "engine = create_engine(connection_string, connect_args={'sslmode':'require'}) "
   ]
  },
  {
   "cell_type": "markdown",
   "metadata": {},
   "source": [
    "## 2. Сколько книг вышло после 1 января 2000 года"
   ]
  },
  {
   "cell_type": "code",
   "execution_count": 28,
   "metadata": {},
   "outputs": [
    {
     "data": {
      "text/html": [
       "<div>\n",
       "<style scoped>\n",
       "    .dataframe tbody tr th:only-of-type {\n",
       "        vertical-align: middle;\n",
       "    }\n",
       "\n",
       "    .dataframe tbody tr th {\n",
       "        vertical-align: top;\n",
       "    }\n",
       "\n",
       "    .dataframe thead th {\n",
       "        text-align: right;\n",
       "    }\n",
       "</style>\n",
       "<table border=\"1\" class=\"dataframe\">\n",
       "  <thead>\n",
       "    <tr style=\"text-align: right;\">\n",
       "      <th></th>\n",
       "      <th>count</th>\n",
       "    </tr>\n",
       "  </thead>\n",
       "  <tbody>\n",
       "    <tr>\n",
       "      <td>0</td>\n",
       "      <td>819</td>\n",
       "    </tr>\n",
       "  </tbody>\n",
       "</table>\n",
       "</div>"
      ],
      "text/plain": [
       "   count\n",
       "0    819"
      ]
     },
     "execution_count": 28,
     "metadata": {},
     "output_type": "execute_result"
    }
   ],
   "source": [
    "query = '''\n",
    "SELECT \n",
    "COUNT(book_id)\n",
    "\n",
    "FROM books\n",
    "WHERE publication_date > '2000-01-01'\n",
    "'''\n",
    "pd.io.sql.read_sql(query, con = engine) "
   ]
  },
  {
   "cell_type": "markdown",
   "metadata": {},
   "source": [
    "## 3. Для каждой книги посчитайте количество обзоров и среднюю оценку;"
   ]
  },
  {
   "cell_type": "code",
   "execution_count": 29,
   "metadata": {},
   "outputs": [
    {
     "data": {
      "text/html": [
       "<div>\n",
       "<style scoped>\n",
       "    .dataframe tbody tr th:only-of-type {\n",
       "        vertical-align: middle;\n",
       "    }\n",
       "\n",
       "    .dataframe tbody tr th {\n",
       "        vertical-align: top;\n",
       "    }\n",
       "\n",
       "    .dataframe thead th {\n",
       "        text-align: right;\n",
       "    }\n",
       "</style>\n",
       "<table border=\"1\" class=\"dataframe\">\n",
       "  <thead>\n",
       "    <tr style=\"text-align: right;\">\n",
       "      <th></th>\n",
       "      <th>title</th>\n",
       "      <th>avg_rating</th>\n",
       "      <th>cnt_review</th>\n",
       "    </tr>\n",
       "  </thead>\n",
       "  <tbody>\n",
       "    <tr>\n",
       "      <td>0</td>\n",
       "      <td>The Cat in the Hat and Other Dr. Seuss Favorites</td>\n",
       "      <td>5.00</td>\n",
       "      <td>NaN</td>\n",
       "    </tr>\n",
       "    <tr>\n",
       "      <td>1</td>\n",
       "      <td>A Dirty Job (Grim Reaper  #1)</td>\n",
       "      <td>5.00</td>\n",
       "      <td>4.0</td>\n",
       "    </tr>\n",
       "    <tr>\n",
       "      <td>2</td>\n",
       "      <td>Moneyball: The Art of Winning an Unfair Game</td>\n",
       "      <td>5.00</td>\n",
       "      <td>3.0</td>\n",
       "    </tr>\n",
       "    <tr>\n",
       "      <td>3</td>\n",
       "      <td>School's Out—Forever (Maximum Ride  #2)</td>\n",
       "      <td>5.00</td>\n",
       "      <td>3.0</td>\n",
       "    </tr>\n",
       "    <tr>\n",
       "      <td>4</td>\n",
       "      <td>Women</td>\n",
       "      <td>5.00</td>\n",
       "      <td>2.0</td>\n",
       "    </tr>\n",
       "    <tr>\n",
       "      <td>...</td>\n",
       "      <td>...</td>\n",
       "      <td>...</td>\n",
       "      <td>...</td>\n",
       "    </tr>\n",
       "    <tr>\n",
       "      <td>995</td>\n",
       "      <td>The World Is Flat: A Brief History of the Twen...</td>\n",
       "      <td>2.25</td>\n",
       "      <td>3.0</td>\n",
       "    </tr>\n",
       "    <tr>\n",
       "      <td>996</td>\n",
       "      <td>Drowning Ruth</td>\n",
       "      <td>2.00</td>\n",
       "      <td>3.0</td>\n",
       "    </tr>\n",
       "    <tr>\n",
       "      <td>997</td>\n",
       "      <td>His Excellency: George Washington</td>\n",
       "      <td>2.00</td>\n",
       "      <td>2.0</td>\n",
       "    </tr>\n",
       "    <tr>\n",
       "      <td>998</td>\n",
       "      <td>Junky</td>\n",
       "      <td>2.00</td>\n",
       "      <td>2.0</td>\n",
       "    </tr>\n",
       "    <tr>\n",
       "      <td>999</td>\n",
       "      <td>Harvesting the Heart</td>\n",
       "      <td>1.50</td>\n",
       "      <td>2.0</td>\n",
       "    </tr>\n",
       "  </tbody>\n",
       "</table>\n",
       "<p>1000 rows × 3 columns</p>\n",
       "</div>"
      ],
      "text/plain": [
       "                                                 title  avg_rating  cnt_review\n",
       "0     The Cat in the Hat and Other Dr. Seuss Favorites        5.00         NaN\n",
       "1                        A Dirty Job (Grim Reaper  #1)        5.00         4.0\n",
       "2         Moneyball: The Art of Winning an Unfair Game        5.00         3.0\n",
       "3              School's Out—Forever (Maximum Ride  #2)        5.00         3.0\n",
       "4                                                Women        5.00         2.0\n",
       "..                                                 ...         ...         ...\n",
       "995  The World Is Flat: A Brief History of the Twen...        2.25         3.0\n",
       "996                                      Drowning Ruth        2.00         3.0\n",
       "997                  His Excellency: George Washington        2.00         2.0\n",
       "998                                              Junky        2.00         2.0\n",
       "999                               Harvesting the Heart        1.50         2.0\n",
       "\n",
       "[1000 rows x 3 columns]"
      ]
     },
     "execution_count": 29,
     "metadata": {},
     "output_type": "execute_result"
    }
   ],
   "source": [
    "query = '''\n",
    "WITH books AS (\n",
    "    SELECT book_id, \n",
    "    title \n",
    "    FROM books\n",
    "),\n",
    "g_ratings AS (\n",
    "    SELECT \n",
    "    book_id,\n",
    "    AVG(rating) AS avg_rating\n",
    "    FROM ratings\n",
    "    GROUP BY book_id\n",
    "),\n",
    "g_reviews AS (\n",
    "    SELECT \n",
    "    book_id,\n",
    "    COUNT(review_id) AS cnt_review\n",
    "    FROM reviews\n",
    "    GROUP BY book_id\n",
    ")\n",
    "SELECT \n",
    "books.title,\n",
    "g_ratings.avg_rating,\n",
    "g_reviews.cnt_review\n",
    "FROM books\n",
    "LEFT JOIN g_ratings ON books.book_id = g_ratings.book_id\n",
    "LEFT JOIN g_reviews ON books.book_id = g_reviews.book_id\n",
    "ORDER BY g_ratings.avg_rating DESC, g_reviews.cnt_review DESC\n",
    "\n",
    "'''\n",
    "pd.io.sql.read_sql(query, con = engine) "
   ]
  },
  {
   "cell_type": "markdown",
   "metadata": {},
   "source": [
    "## 4. Определите издательство, которое выпустило наибольшее число книг толще 50 страниц — так вы исключите из анализа брошюры"
   ]
  },
  {
   "cell_type": "code",
   "execution_count": 30,
   "metadata": {},
   "outputs": [
    {
     "data": {
      "text/html": [
       "<div>\n",
       "<style scoped>\n",
       "    .dataframe tbody tr th:only-of-type {\n",
       "        vertical-align: middle;\n",
       "    }\n",
       "\n",
       "    .dataframe tbody tr th {\n",
       "        vertical-align: top;\n",
       "    }\n",
       "\n",
       "    .dataframe thead th {\n",
       "        text-align: right;\n",
       "    }\n",
       "</style>\n",
       "<table border=\"1\" class=\"dataframe\">\n",
       "  <thead>\n",
       "    <tr style=\"text-align: right;\">\n",
       "      <th></th>\n",
       "      <th>publisher</th>\n",
       "      <th>cnt_books</th>\n",
       "    </tr>\n",
       "  </thead>\n",
       "  <tbody>\n",
       "    <tr>\n",
       "      <td>0</td>\n",
       "      <td>Penguin Books</td>\n",
       "      <td>42</td>\n",
       "    </tr>\n",
       "  </tbody>\n",
       "</table>\n",
       "</div>"
      ],
      "text/plain": [
       "       publisher  cnt_books\n",
       "0  Penguin Books         42"
      ]
     },
     "execution_count": 30,
     "metadata": {},
     "output_type": "execute_result"
    }
   ],
   "source": [
    "query = '''\n",
    "WITH books AS (\n",
    "    SELECT COUNT(book_id) AS cnt_books, \n",
    "    publisher_id \n",
    "    FROM books\n",
    "    WHERE num_pages > 50\n",
    "    GROUP BY publisher_id\n",
    ")\n",
    "SELECT\n",
    "publishers.publisher,\n",
    "books.cnt_books\n",
    "FROM books\n",
    "LEFT JOIN publishers ON books.publisher_id = publishers.publisher_id\n",
    "ORDER BY books.cnt_books DESC\n",
    "LIMIT 1 \n",
    "'''\n",
    "pd.io.sql.read_sql(query, con = engine) "
   ]
  },
  {
   "cell_type": "markdown",
   "metadata": {},
   "source": [
    "## 5. Определите автора с самой высокой средней оценкой книг — учитывайте только книги с 50 и более оценками"
   ]
  },
  {
   "cell_type": "code",
   "execution_count": 31,
   "metadata": {},
   "outputs": [
    {
     "data": {
      "text/html": [
       "<div>\n",
       "<style scoped>\n",
       "    .dataframe tbody tr th:only-of-type {\n",
       "        vertical-align: middle;\n",
       "    }\n",
       "\n",
       "    .dataframe tbody tr th {\n",
       "        vertical-align: top;\n",
       "    }\n",
       "\n",
       "    .dataframe thead th {\n",
       "        text-align: right;\n",
       "    }\n",
       "</style>\n",
       "<table border=\"1\" class=\"dataframe\">\n",
       "  <thead>\n",
       "    <tr style=\"text-align: right;\">\n",
       "      <th></th>\n",
       "      <th>author</th>\n",
       "      <th>author_id</th>\n",
       "      <th>avg</th>\n",
       "    </tr>\n",
       "  </thead>\n",
       "  <tbody>\n",
       "    <tr>\n",
       "      <td>0</td>\n",
       "      <td>J.K. Rowling/Mary GrandPré</td>\n",
       "      <td>236</td>\n",
       "      <td>4.283844</td>\n",
       "    </tr>\n",
       "  </tbody>\n",
       "</table>\n",
       "</div>"
      ],
      "text/plain": [
       "                       author  author_id       avg\n",
       "0  J.K. Rowling/Mary GrandPré        236  4.283844"
      ]
     },
     "execution_count": 31,
     "metadata": {},
     "output_type": "execute_result"
    }
   ],
   "source": [
    "query = '''\n",
    "WITH top_rat AS (\n",
    "    SELECT\n",
    "    book_id,\n",
    "    COUNT(*) AS cnt_rating,\n",
    "    AVG(rating) AS avg_rating\n",
    "    FROM ratings\n",
    "    GROUP BY book_id\n",
    "    HAVING  COUNT(*) >= 50\n",
    ")\n",
    "SELECT\n",
    "    authors.author,\n",
    "    authors.author_id,\n",
    "    AVG(top_rat.avg_rating) AS avg\n",
    "FROM top_rat\n",
    "LEFT JOIN books ON books.book_id=top_rat.book_id\n",
    "LEFT JOIN authors ON authors.author_id = books.author_id\n",
    "GROUP BY authors.author,authors.author_id\n",
    "ORDER BY avg DESC\n",
    "LIMIT 1\n",
    "'''\n",
    "pd.io.sql.read_sql(query, con = engine) "
   ]
  },
  {
   "cell_type": "markdown",
   "metadata": {},
   "source": [
    "## 6. Посчитайте среднее количество обзоров от пользователей, которые поставили больше 50 оценок"
   ]
  },
  {
   "cell_type": "code",
   "execution_count": 32,
   "metadata": {},
   "outputs": [
    {
     "data": {
      "text/html": [
       "<div>\n",
       "<style scoped>\n",
       "    .dataframe tbody tr th:only-of-type {\n",
       "        vertical-align: middle;\n",
       "    }\n",
       "\n",
       "    .dataframe tbody tr th {\n",
       "        vertical-align: top;\n",
       "    }\n",
       "\n",
       "    .dataframe thead th {\n",
       "        text-align: right;\n",
       "    }\n",
       "</style>\n",
       "<table border=\"1\" class=\"dataframe\">\n",
       "  <thead>\n",
       "    <tr style=\"text-align: right;\">\n",
       "      <th></th>\n",
       "      <th>avg</th>\n",
       "    </tr>\n",
       "  </thead>\n",
       "  <tbody>\n",
       "    <tr>\n",
       "      <td>0</td>\n",
       "      <td>24.333333</td>\n",
       "    </tr>\n",
       "  </tbody>\n",
       "</table>\n",
       "</div>"
      ],
      "text/plain": [
       "         avg\n",
       "0  24.333333"
      ]
     },
     "execution_count": 32,
     "metadata": {},
     "output_type": "execute_result"
    }
   ],
   "source": [
    "query = '''\n",
    "WITH rat50 AS (\n",
    "    SELECT\n",
    "    username ,\n",
    "    COUNT(rating) \n",
    "    FROM ratings\n",
    "    GROUP BY username \n",
    "    HAVING  COUNT(rating) > 50\n",
    "    ),\n",
    "reviews AS (\n",
    "    SELECT\n",
    "    COUNT(review_id) as cntr,\n",
    "    username\n",
    "    FROM reviews\n",
    "    GROUP BY username\n",
    ")\n",
    "SELECT \n",
    "AVG(reviews.cntr)\n",
    "FROM reviews\n",
    "RIGHT JOIN rat50 ON rat50.username=reviews.username \n",
    "\n",
    "'''\n",
    "pd.io.sql.read_sql(query, con = engine) "
   ]
  },
  {
   "cell_type": "markdown",
   "metadata": {},
   "source": [
    "## Общий вывод\n",
    "- после 1 января 2000 года вышло 819 книг\n",
    "- Для каждой книги расчитано кол-во обзорой и средняя оценка\n",
    "- Издательство, которое выпустило наибольшее число книг толще 50 страниц — Penguin Books, и выпустило 42 книги\n",
    "- Автор с самой высокой средней оценкой книг, среди книг с 50 и более оценками -J.K. Rowling/Mary GrandPré, средний рейтинг его книг - 4.28\n",
    "- Среднее количество обзоров от пользователей, которые поставили больше 50 оценок -24\n"
   ]
  },
  {
   "cell_type": "code",
   "execution_count": null,
   "metadata": {},
   "outputs": [],
   "source": []
  }
 ],
 "metadata": {
  "ExecuteTimeLog": [
   {
    "duration": 903,
    "start_time": "2021-11-19T16:01:15.464Z"
   },
   {
    "duration": 41,
    "start_time": "2021-11-19T16:01:16.370Z"
   },
   {
    "duration": 196,
    "start_time": "2021-11-19T16:01:16.414Z"
   },
   {
    "duration": 81,
    "start_time": "2021-11-19T16:01:16.613Z"
   },
   {
    "duration": 56,
    "start_time": "2021-11-19T16:01:16.697Z"
   },
   {
    "duration": 62,
    "start_time": "2021-11-19T16:01:16.755Z"
   },
   {
    "duration": 58,
    "start_time": "2021-11-19T16:01:16.819Z"
   },
   {
    "duration": 59,
    "start_time": "2021-11-19T16:01:33.012Z"
   },
   {
    "duration": 139,
    "start_time": "2021-11-19T16:03:22.560Z"
   },
   {
    "duration": 623,
    "start_time": "2021-11-21T15:58:25.876Z"
   },
   {
    "duration": 28,
    "start_time": "2021-11-21T15:58:26.612Z"
   },
   {
    "duration": 269,
    "start_time": "2021-11-21T15:58:28.339Z"
   },
   {
    "duration": 98,
    "start_time": "2021-11-21T15:58:30.332Z"
   },
   {
    "duration": 94,
    "start_time": "2021-11-21T15:58:44.570Z"
   },
   {
    "duration": 137,
    "start_time": "2021-11-21T15:59:08.779Z"
   },
   {
    "duration": 95,
    "start_time": "2021-11-21T15:59:32.310Z"
   },
   {
    "duration": 98,
    "start_time": "2021-11-21T15:59:45.337Z"
   },
   {
    "duration": 82,
    "start_time": "2021-11-21T16:00:38.155Z"
   },
   {
    "duration": 69,
    "start_time": "2021-11-21T16:00:48.959Z"
   },
   {
    "duration": 69,
    "start_time": "2021-11-21T16:01:22.086Z"
   },
   {
    "duration": 69,
    "start_time": "2021-11-21T16:02:34.546Z"
   },
   {
    "duration": 86,
    "start_time": "2021-11-21T16:02:38.203Z"
   },
   {
    "duration": 69,
    "start_time": "2021-11-21T16:02:41.550Z"
   },
   {
    "duration": 326,
    "start_time": "2021-11-21T16:04:20.291Z"
   },
   {
    "duration": 71,
    "start_time": "2021-11-21T16:04:38.042Z"
   },
   {
    "duration": 75,
    "start_time": "2021-11-21T16:04:53.729Z"
   },
   {
    "duration": 88,
    "start_time": "2021-11-21T16:05:04.964Z"
   },
   {
    "duration": 69,
    "start_time": "2021-11-21T16:05:10.529Z"
   },
   {
    "duration": 70,
    "start_time": "2021-11-21T16:05:38.013Z"
   },
   {
    "duration": 906,
    "start_time": "2021-11-21T17:15:09.943Z"
   },
   {
    "duration": 41,
    "start_time": "2021-11-21T17:15:10.851Z"
   },
   {
    "duration": 244,
    "start_time": "2021-11-21T17:15:10.896Z"
   },
   {
    "duration": 101,
    "start_time": "2021-11-21T17:15:11.142Z"
   },
   {
    "duration": 68,
    "start_time": "2021-11-21T17:15:11.245Z"
   },
   {
    "duration": 68,
    "start_time": "2021-11-21T17:15:11.315Z"
   },
   {
    "duration": 68,
    "start_time": "2021-11-21T17:15:11.385Z"
   },
   {
    "duration": 69,
    "start_time": "2021-11-21T17:15:17.928Z"
   },
   {
    "duration": 71,
    "start_time": "2021-11-21T17:15:33.099Z"
   },
   {
    "duration": 2,
    "start_time": "2021-11-21T20:00:10.132Z"
   },
   {
    "duration": 4,
    "start_time": "2021-11-21T20:00:11.112Z"
   },
   {
    "duration": 251,
    "start_time": "2021-11-21T20:00:12.843Z"
   },
   {
    "duration": 103,
    "start_time": "2021-11-21T20:00:14.737Z"
   },
   {
    "duration": 72,
    "start_time": "2021-11-21T20:00:16.523Z"
   },
   {
    "duration": 76,
    "start_time": "2021-11-21T20:00:39.515Z"
   },
   {
    "duration": 74,
    "start_time": "2021-11-21T20:00:42.599Z"
   }
  ],
  "kernelspec": {
   "display_name": "Python 3",
   "language": "python",
   "name": "python3"
  },
  "language_info": {
   "codemirror_mode": {
    "name": "ipython",
    "version": 3
   },
   "file_extension": ".py",
   "mimetype": "text/x-python",
   "name": "python",
   "nbconvert_exporter": "python",
   "pygments_lexer": "ipython3",
   "version": "3.7.8"
  },
  "toc": {
   "base_numbering": 1,
   "nav_menu": {},
   "number_sections": true,
   "sideBar": true,
   "skip_h1_title": true,
   "title_cell": "Table of Contents",
   "title_sidebar": "Contents",
   "toc_cell": false,
   "toc_position": {},
   "toc_section_display": true,
   "toc_window_display": false
  }
 },
 "nbformat": 4,
 "nbformat_minor": 4
}
